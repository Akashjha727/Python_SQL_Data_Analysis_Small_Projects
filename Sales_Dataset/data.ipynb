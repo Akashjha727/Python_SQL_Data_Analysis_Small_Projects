{
 "cells": [
  {
   "cell_type": "code",
   "execution_count": 1,
   "metadata": {},
   "outputs": [
    {
     "name": "stdout",
     "output_type": "stream",
     "text": [
      "Requirement already satisfied: pandas in c:\\users\\ajha2\\appdata\\local\\programs\\python\\python312\\lib\\site-packages (2.2.2)\n",
      "Requirement already satisfied: numpy>=1.26.0 in c:\\users\\ajha2\\appdata\\local\\programs\\python\\python312\\lib\\site-packages (from pandas) (2.0.1)\n",
      "Requirement already satisfied: python-dateutil>=2.8.2 in c:\\users\\ajha2\\appdata\\local\\programs\\python\\python312\\lib\\site-packages (from pandas) (2.9.0.post0)\n",
      "Requirement already satisfied: pytz>=2020.1 in c:\\users\\ajha2\\appdata\\local\\programs\\python\\python312\\lib\\site-packages (from pandas) (2024.1)\n",
      "Requirement already satisfied: tzdata>=2022.7 in c:\\users\\ajha2\\appdata\\local\\programs\\python\\python312\\lib\\site-packages (from pandas) (2024.1)\n",
      "Requirement already satisfied: six>=1.5 in c:\\users\\ajha2\\appdata\\local\\programs\\python\\python312\\lib\\site-packages (from python-dateutil>=2.8.2->pandas) (1.16.0)\n"
     ]
    }
   ],
   "source": [
    "## import libraries\n",
    "\n",
    "! pip install pandas"
   ]
  },
  {
   "cell_type": "code",
   "execution_count": 2,
   "metadata": {},
   "outputs": [
    {
     "name": "stdout",
     "output_type": "stream",
     "text": [
      "Requirement already satisfied: numpy in c:\\users\\ajha2\\appdata\\local\\programs\\python\\python312\\lib\\site-packages (2.0.1)\n",
      "Collecting matplotlib\n",
      "  Downloading matplotlib-3.9.2-cp312-cp312-win_amd64.whl.metadata (11 kB)\n",
      "Collecting contourpy>=1.0.1 (from matplotlib)\n",
      "  Downloading contourpy-1.3.0-cp312-cp312-win_amd64.whl.metadata (5.4 kB)\n",
      "Collecting cycler>=0.10 (from matplotlib)\n",
      "  Downloading cycler-0.12.1-py3-none-any.whl.metadata (3.8 kB)\n",
      "Collecting fonttools>=4.22.0 (from matplotlib)\n",
      "  Downloading fonttools-4.54.1-cp312-cp312-win_amd64.whl.metadata (167 kB)\n",
      "Collecting kiwisolver>=1.3.1 (from matplotlib)\n",
      "  Downloading kiwisolver-1.4.7-cp312-cp312-win_amd64.whl.metadata (6.4 kB)\n",
      "Requirement already satisfied: numpy>=1.23 in c:\\users\\ajha2\\appdata\\local\\programs\\python\\python312\\lib\\site-packages (from matplotlib) (2.0.1)\n",
      "Requirement already satisfied: packaging>=20.0 in c:\\users\\ajha2\\appdata\\roaming\\python\\python312\\site-packages (from matplotlib) (24.1)\n",
      "Collecting pillow>=8 (from matplotlib)\n",
      "  Downloading pillow-11.0.0-cp312-cp312-win_amd64.whl.metadata (9.3 kB)\n",
      "Collecting pyparsing>=2.3.1 (from matplotlib)\n",
      "  Downloading pyparsing-3.2.0-py3-none-any.whl.metadata (5.0 kB)\n",
      "Requirement already satisfied: python-dateutil>=2.7 in c:\\users\\ajha2\\appdata\\local\\programs\\python\\python312\\lib\\site-packages (from matplotlib) (2.9.0.post0)\n",
      "Requirement already satisfied: six>=1.5 in c:\\users\\ajha2\\appdata\\local\\programs\\python\\python312\\lib\\site-packages (from python-dateutil>=2.7->matplotlib) (1.16.0)\n",
      "Downloading matplotlib-3.9.2-cp312-cp312-win_amd64.whl (7.8 MB)\n",
      "   ---------------------------------------- 0.0/7.8 MB ? eta -:--:--\n",
      "   ------------ --------------------------- 2.4/7.8 MB 12.3 MB/s eta 0:00:01\n",
      "   ------------------------ --------------- 4.7/7.8 MB 11.4 MB/s eta 0:00:01\n",
      "   ---------------------------------- ----- 6.8/7.8 MB 11.1 MB/s eta 0:00:01\n",
      "   ---------------------------------------- 7.8/7.8 MB 10.5 MB/s eta 0:00:00\n",
      "Downloading contourpy-1.3.0-cp312-cp312-win_amd64.whl (218 kB)\n",
      "Downloading cycler-0.12.1-py3-none-any.whl (8.3 kB)\n",
      "Downloading fonttools-4.54.1-cp312-cp312-win_amd64.whl (2.2 MB)\n",
      "   ---------------------------------------- 0.0/2.2 MB ? eta -:--:--\n",
      "   --------------------------------- ------ 1.8/2.2 MB 9.1 MB/s eta 0:00:01\n",
      "   ---------------------------------------- 2.2/2.2 MB 8.9 MB/s eta 0:00:00\n",
      "Downloading kiwisolver-1.4.7-cp312-cp312-win_amd64.whl (55 kB)\n",
      "Downloading pillow-11.0.0-cp312-cp312-win_amd64.whl (2.6 MB)\n",
      "   ---------------------------------------- 0.0/2.6 MB ? eta -:--:--\n",
      "   -------------------------------- ------- 2.1/2.6 MB 10.7 MB/s eta 0:00:01\n",
      "   ---------------------------------------- 2.6/2.6 MB 8.2 MB/s eta 0:00:00\n",
      "Downloading pyparsing-3.2.0-py3-none-any.whl (106 kB)\n",
      "Installing collected packages: pyparsing, pillow, kiwisolver, fonttools, cycler, contourpy, matplotlib\n",
      "Successfully installed contourpy-1.3.0 cycler-0.12.1 fonttools-4.54.1 kiwisolver-1.4.7 matplotlib-3.9.2 pillow-11.0.0 pyparsing-3.2.0\n"
     ]
    }
   ],
   "source": [
    "! pip install numpy\n",
    "! pip install matplotlib"
   ]
  },
  {
   "cell_type": "code",
   "execution_count": 3,
   "metadata": {},
   "outputs": [
    {
     "name": "stdout",
     "output_type": "stream",
     "text": [
      "Collecting seaborn\n",
      "  Downloading seaborn-0.13.2-py3-none-any.whl.metadata (5.4 kB)\n",
      "Requirement already satisfied: numpy!=1.24.0,>=1.20 in c:\\users\\ajha2\\appdata\\local\\programs\\python\\python312\\lib\\site-packages (from seaborn) (2.0.1)\n",
      "Requirement already satisfied: pandas>=1.2 in c:\\users\\ajha2\\appdata\\local\\programs\\python\\python312\\lib\\site-packages (from seaborn) (2.2.2)\n",
      "Requirement already satisfied: matplotlib!=3.6.1,>=3.4 in c:\\users\\ajha2\\appdata\\local\\programs\\python\\python312\\lib\\site-packages (from seaborn) (3.9.2)\n",
      "Requirement already satisfied: contourpy>=1.0.1 in c:\\users\\ajha2\\appdata\\local\\programs\\python\\python312\\lib\\site-packages (from matplotlib!=3.6.1,>=3.4->seaborn) (1.3.0)\n",
      "Requirement already satisfied: cycler>=0.10 in c:\\users\\ajha2\\appdata\\local\\programs\\python\\python312\\lib\\site-packages (from matplotlib!=3.6.1,>=3.4->seaborn) (0.12.1)\n",
      "Requirement already satisfied: fonttools>=4.22.0 in c:\\users\\ajha2\\appdata\\local\\programs\\python\\python312\\lib\\site-packages (from matplotlib!=3.6.1,>=3.4->seaborn) (4.54.1)\n",
      "Requirement already satisfied: kiwisolver>=1.3.1 in c:\\users\\ajha2\\appdata\\local\\programs\\python\\python312\\lib\\site-packages (from matplotlib!=3.6.1,>=3.4->seaborn) (1.4.7)\n",
      "Requirement already satisfied: packaging>=20.0 in c:\\users\\ajha2\\appdata\\roaming\\python\\python312\\site-packages (from matplotlib!=3.6.1,>=3.4->seaborn) (24.1)\n",
      "Requirement already satisfied: pillow>=8 in c:\\users\\ajha2\\appdata\\local\\programs\\python\\python312\\lib\\site-packages (from matplotlib!=3.6.1,>=3.4->seaborn) (11.0.0)\n",
      "Requirement already satisfied: pyparsing>=2.3.1 in c:\\users\\ajha2\\appdata\\local\\programs\\python\\python312\\lib\\site-packages (from matplotlib!=3.6.1,>=3.4->seaborn) (3.2.0)\n",
      "Requirement already satisfied: python-dateutil>=2.7 in c:\\users\\ajha2\\appdata\\local\\programs\\python\\python312\\lib\\site-packages (from matplotlib!=3.6.1,>=3.4->seaborn) (2.9.0.post0)\n",
      "Requirement already satisfied: pytz>=2020.1 in c:\\users\\ajha2\\appdata\\local\\programs\\python\\python312\\lib\\site-packages (from pandas>=1.2->seaborn) (2024.1)\n",
      "Requirement already satisfied: tzdata>=2022.7 in c:\\users\\ajha2\\appdata\\local\\programs\\python\\python312\\lib\\site-packages (from pandas>=1.2->seaborn) (2024.1)\n",
      "Requirement already satisfied: six>=1.5 in c:\\users\\ajha2\\appdata\\local\\programs\\python\\python312\\lib\\site-packages (from python-dateutil>=2.7->matplotlib!=3.6.1,>=3.4->seaborn) (1.16.0)\n",
      "Downloading seaborn-0.13.2-py3-none-any.whl (294 kB)\n",
      "Installing collected packages: seaborn\n",
      "Successfully installed seaborn-0.13.2\n"
     ]
    }
   ],
   "source": [
    "! pip install seaborn"
   ]
  },
  {
   "cell_type": "code",
   "execution_count": 6,
   "metadata": {},
   "outputs": [
    {
     "name": "stdout",
     "output_type": "stream",
     "text": [
      "Collecting openpyxl\n",
      "  Downloading openpyxl-3.1.5-py2.py3-none-any.whl.metadata (2.5 kB)\n",
      "Collecting et-xmlfile (from openpyxl)\n",
      "  Downloading et_xmlfile-1.1.0-py3-none-any.whl.metadata (1.8 kB)\n",
      "Downloading openpyxl-3.1.5-py2.py3-none-any.whl (250 kB)\n",
      "Downloading et_xmlfile-1.1.0-py3-none-any.whl (4.7 kB)\n",
      "Installing collected packages: et-xmlfile, openpyxl\n",
      "Successfully installed et-xmlfile-1.1.0 openpyxl-3.1.5\n"
     ]
    }
   ],
   "source": [
    "! pip install openpyxl"
   ]
  },
  {
   "cell_type": "code",
   "execution_count": 25,
   "metadata": {},
   "outputs": [
    {
     "data": {
      "text/html": [
       "<div>\n",
       "<style scoped>\n",
       "    .dataframe tbody tr th:only-of-type {\n",
       "        vertical-align: middle;\n",
       "    }\n",
       "\n",
       "    .dataframe tbody tr th {\n",
       "        vertical-align: top;\n",
       "    }\n",
       "\n",
       "    .dataframe thead th {\n",
       "        text-align: right;\n",
       "    }\n",
       "</style>\n",
       "<table border=\"1\" class=\"dataframe\">\n",
       "  <thead>\n",
       "    <tr style=\"text-align: right;\">\n",
       "      <th></th>\n",
       "      <th>Date</th>\n",
       "      <th>Time</th>\n",
       "      <th>Order Number</th>\n",
       "      <th>Item</th>\n",
       "      <th>Count</th>\n",
       "      <th>Category</th>\n",
       "      <th>Sub Category</th>\n",
       "      <th>Item Name</th>\n",
       "      <th>Price</th>\n",
       "      <th>Cost</th>\n",
       "    </tr>\n",
       "  </thead>\n",
       "  <tbody>\n",
       "    <tr>\n",
       "      <th>0</th>\n",
       "      <td>2022-01-01</td>\n",
       "      <td>00:00:00</td>\n",
       "      <td>2200001</td>\n",
       "      <td>106</td>\n",
       "      <td>1</td>\n",
       "      <td>Appetizers</td>\n",
       "      <td>Appetizer Platters</td>\n",
       "      <td>Bruschetta</td>\n",
       "      <td>15</td>\n",
       "      <td>12.15</td>\n",
       "    </tr>\n",
       "    <tr>\n",
       "      <th>1</th>\n",
       "      <td>2022-01-01</td>\n",
       "      <td>00:00:00</td>\n",
       "      <td>2200001</td>\n",
       "      <td>206</td>\n",
       "      <td>1</td>\n",
       "      <td>Main Courses</td>\n",
       "      <td>Poultry</td>\n",
       "      <td>Turkey Dishes</td>\n",
       "      <td>181</td>\n",
       "      <td>146.61</td>\n",
       "    </tr>\n",
       "  </tbody>\n",
       "</table>\n",
       "</div>"
      ],
      "text/plain": [
       "        Date      Time  Order Number  Item  Count      Category  \\\n",
       "0 2022-01-01  00:00:00       2200001   106      1    Appetizers   \n",
       "1 2022-01-01  00:00:00       2200001   206      1  Main Courses   \n",
       "\n",
       "         Sub Category      Item Name  Price    Cost  \n",
       "0  Appetizer Platters     Bruschetta     15   12.15  \n",
       "1             Poultry  Turkey Dishes    181  146.61  "
      ]
     },
     "execution_count": 25,
     "metadata": {},
     "output_type": "execute_result"
    }
   ],
   "source": [
    "# import libraries\n",
    "import pandas as pd\n",
    "import numpy as np\n",
    "import matplotlib.pyplot as plt\n",
    "import seaborn as sns\n",
    "\n",
    "data_1 = pd.read_excel(r\"C:\\Users\\ajha2\\Downloads\\Python\\Sales_Dataset\\Restaurant_Data.xlsx\",sheet_name='Orders')\n",
    "data_2 = pd.read_excel(r\"C:\\Users\\ajha2\\Downloads\\Python\\Sales_Dataset\\Restaurant_Data.xlsx\",sheet_name='Items')\n",
    "\n",
    "data=pd.merge(data_1,data_2,on='Item')\n",
    "data.head(2)\n"
   ]
  },
  {
   "cell_type": "code",
   "execution_count": 33,
   "metadata": {},
   "outputs": [
    {
     "data": {
      "text/plain": [
       "Item\n",
       "104    1556\n",
       "100    1495\n",
       "106    1489\n",
       "101    1474\n",
       "108    1465\n",
       "       ... \n",
       "209     748\n",
       "217     748\n",
       "201     747\n",
       "211     735\n",
       "212     694\n",
       "Name: count, Length: 71, dtype: int64"
      ]
     },
     "execution_count": 33,
     "metadata": {},
     "output_type": "execute_result"
    }
   ],
   "source": [
    "data['Item'].value_counts()"
   ]
  },
  {
   "cell_type": "code",
   "execution_count": 24,
   "metadata": {},
   "outputs": [
    {
     "name": "stdout",
     "output_type": "stream",
     "text": [
      "Value counts for column 'Item':\n",
      "Item\n",
      "104    1556\n",
      "100    1495\n",
      "106    1489\n",
      "101    1474\n",
      "108    1465\n",
      "       ... \n",
      "209     748\n",
      "217     748\n",
      "201     747\n",
      "211     735\n",
      "212     694\n",
      "Name: count, Length: 71, dtype: int64\n",
      "\n",
      "Value counts for column 'Count':\n",
      "Count\n",
      "1    71505\n",
      "0     1495\n",
      "Name: count, dtype: int64\n",
      "\n",
      "Value counts for column 'Category':\n",
      "Category\n",
      "Appetizers      14600\n",
      "Main Courses    14600\n",
      "Sides           14600\n",
      "Desserts        14600\n",
      "Beverages       14600\n",
      "Name: count, dtype: int64\n",
      "\n",
      "Value counts for column 'Sub Category':\n",
      "Sub Category\n",
      "Seafood                 7352\n",
      "Non-Alcoholic Drinks    6810\n",
      "Alcoholic Drinks        6617\n",
      "Appetizer Platters      4499\n",
      "Potatoes                4146\n",
      "Cakes                   3886\n",
      "Bread                   3192\n",
      "Vegetables              3143\n",
      "Rice                    3078\n",
      "Meat Dishes             3070\n",
      "Vegan                   3062\n",
      "Pasta                   3036\n",
      "Fruits                  2974\n",
      "Soups                   2969\n",
      "Salads                  2915\n",
      "Pies                    2891\n",
      "Puddings                2840\n",
      "Poultry                 2297\n",
      "Ice Cream                968\n",
      "Name: count, dtype: int64\n",
      "\n",
      "Value counts for column 'Item Name':\n",
      "Item Name\n",
      "Spring Rolls        1556\n",
      "Tomato Soup         1495\n",
      "Bruschetta          1489\n",
      "Chicken Soup        1474\n",
      "Calamari Rings      1465\n",
      "                    ... \n",
      "Seafood Pasta        748\n",
      "Vegetarian Pasta     748\n",
      "Burgers              747\n",
      "Spaghetti            735\n",
      "Fettuccine           694\n",
      "Name: count, Length: 68, dtype: int64\n",
      "\n"
     ]
    }
   ],
   "source": [
    "#we need to analyze and describe data\n",
    "def Count_values(df,column_names):\n",
    "    #Dictonary to store value counts for each column\n",
    "    value_counts_dict = {}\n",
    "\n",
    "    #itreate \n",
    "    for column in column_names:\n",
    "        value_counts_dict[column]=df[column].value_counts()\n",
    "\n",
    "    return value_counts_dict\n",
    "\n",
    "#list columns\n",
    "columns_to_counts= ['Item','Count','Category','Sub Category','Item Name']\n",
    "\n",
    "result = Count_values(data,columns_to_counts)\n",
    "\n",
    "for column,counts in result.items():\n",
    "    print(f\"Value counts for column '{column}':\\n{counts}\\n\")\n",
    "\n"
   ]
  },
  {
   "cell_type": "code",
   "execution_count": 48,
   "metadata": {},
   "outputs": [
    {
     "data": {
      "text/plain": [
       "0                Bruschetta\n",
       "1             Turkey-Dishes\n",
       "2        Grilled-Vegetables\n",
       "3                       NaN\n",
       "4                      Beer\n",
       "                ...        \n",
       "72995          Spring-Rolls\n",
       "72996          Grilled-Fish\n",
       "72997          French-Fries\n",
       "72998           Fruit-Salad\n",
       "72999               Whiskey\n",
       "Name: Item Name, Length: 73000, dtype: object"
      ]
     },
     "execution_count": 48,
     "metadata": {},
     "output_type": "execute_result"
    }
   ],
   "source": [
    "#Clean item names\n",
    "def clean_item_name(item):\n",
    "    if isinstance(item,str):\n",
    "        return item.strip().title().replace(' ','-')\n",
    "    return item\n",
    "#Applying function\n",
    "data['Item Name']=data['Item Name'].apply(clean_item_name)\n",
    "data['Item Name']"
   ]
  },
  {
   "cell_type": "code",
   "execution_count": 65,
   "metadata": {},
   "outputs": [
    {
     "data": {
      "text/html": [
       "<div>\n",
       "<style scoped>\n",
       "    .dataframe tbody tr th:only-of-type {\n",
       "        vertical-align: middle;\n",
       "    }\n",
       "\n",
       "    .dataframe tbody tr th {\n",
       "        vertical-align: top;\n",
       "    }\n",
       "\n",
       "    .dataframe thead th {\n",
       "        text-align: right;\n",
       "    }\n",
       "</style>\n",
       "<table border=\"1\" class=\"dataframe\">\n",
       "  <thead>\n",
       "    <tr style=\"text-align: right;\">\n",
       "      <th></th>\n",
       "      <th>Date</th>\n",
       "      <th>Order Number</th>\n",
       "      <th>Item</th>\n",
       "      <th>Count</th>\n",
       "      <th>Category</th>\n",
       "      <th>Sub Category</th>\n",
       "      <th>Item Name</th>\n",
       "      <th>Price</th>\n",
       "      <th>Cost</th>\n",
       "      <th>Profit</th>\n",
       "    </tr>\n",
       "  </thead>\n",
       "  <tbody>\n",
       "    <tr>\n",
       "      <th>0</th>\n",
       "      <td>2022-01-01</td>\n",
       "      <td>2200001</td>\n",
       "      <td>106</td>\n",
       "      <td>1</td>\n",
       "      <td>Appetizers</td>\n",
       "      <td>Appetizer Platters</td>\n",
       "      <td>Bruschetta</td>\n",
       "      <td>15</td>\n",
       "      <td>12.15</td>\n",
       "      <td>2.85</td>\n",
       "    </tr>\n",
       "    <tr>\n",
       "      <th>1</th>\n",
       "      <td>2022-01-01</td>\n",
       "      <td>2200001</td>\n",
       "      <td>206</td>\n",
       "      <td>1</td>\n",
       "      <td>Main Courses</td>\n",
       "      <td>Poultry</td>\n",
       "      <td>Turkey-Dishes</td>\n",
       "      <td>181</td>\n",
       "      <td>146.61</td>\n",
       "      <td>34.39</td>\n",
       "    </tr>\n",
       "  </tbody>\n",
       "</table>\n",
       "</div>"
      ],
      "text/plain": [
       "        Date  Order Number  Item  Count      Category        Sub Category  \\\n",
       "0 2022-01-01       2200001   106      1    Appetizers  Appetizer Platters   \n",
       "1 2022-01-01       2200001   206      1  Main Courses             Poultry   \n",
       "\n",
       "       Item Name  Price    Cost  Profit  \n",
       "0     Bruschetta     15   12.15    2.85  \n",
       "1  Turkey-Dishes    181  146.61   34.39  "
      ]
     },
     "execution_count": 65,
     "metadata": {},
     "output_type": "execute_result"
    }
   ],
   "source": [
    "## Calculate Gross profit\n",
    "def Calculate_profit(row):\n",
    "    return(row['Price']* row['Count']) - (row['Cost'] * row['Count'])\n",
    "\n",
    "# Applying the function to each row\n",
    "data['Profit'] = data.apply(Calculate_profit,axis=1)\n",
    "data.head(2)"
   ]
  },
  {
   "cell_type": "code",
   "execution_count": 64,
   "metadata": {},
   "outputs": [],
   "source": [
    "\n",
    "data.drop('Time',axis=1,inplace=True)"
   ]
  },
  {
   "cell_type": "code",
   "execution_count": 105,
   "metadata": {},
   "outputs": [
    {
     "data": {
      "text/plain": [
       "Date\n",
       "1     330830\n",
       "2     300859\n",
       "3     332106\n",
       "4     324496\n",
       "5     333417\n",
       "6     323023\n",
       "7     333608\n",
       "8     332853\n",
       "9     322379\n",
       "10    334877\n",
       "11    322216\n",
       "12    335515\n",
       "Name: Price, dtype: int64"
      ]
     },
     "execution_count": 105,
     "metadata": {},
     "output_type": "execute_result"
    }
   ],
   "source": [
    "#Advanced Sales Trend Analysis with Custom Functions\n",
    "def monthly_sales(df):\n",
    "    #Group data by year and month and sum sales\n",
    "    return df.groupby(df['Date'].dt.month)['Price'].sum()\n",
    "\n",
    "#Apply this function\n",
    "monthly_sales_data=monthly_sales(data)\n",
    "monthly_sales_data"
   ]
  },
  {
   "cell_type": "code",
   "execution_count": 77,
   "metadata": {},
   "outputs": [
    {
     "data": {
      "text/html": [
       "<div>\n",
       "<style scoped>\n",
       "    .dataframe tbody tr th:only-of-type {\n",
       "        vertical-align: middle;\n",
       "    }\n",
       "\n",
       "    .dataframe tbody tr th {\n",
       "        vertical-align: top;\n",
       "    }\n",
       "\n",
       "    .dataframe thead th {\n",
       "        text-align: right;\n",
       "    }\n",
       "</style>\n",
       "<table border=\"1\" class=\"dataframe\">\n",
       "  <thead>\n",
       "    <tr style=\"text-align: right;\">\n",
       "      <th></th>\n",
       "      <th>Average_Order_Value</th>\n",
       "    </tr>\n",
       "    <tr>\n",
       "      <th>Date</th>\n",
       "      <th></th>\n",
       "    </tr>\n",
       "  </thead>\n",
       "  <tbody>\n",
       "    <tr>\n",
       "      <th>1</th>\n",
       "      <td>266.798387</td>\n",
       "    </tr>\n",
       "    <tr>\n",
       "      <th>2</th>\n",
       "      <td>268.624107</td>\n",
       "    </tr>\n",
       "    <tr>\n",
       "      <th>3</th>\n",
       "      <td>267.827419</td>\n",
       "    </tr>\n",
       "    <tr>\n",
       "      <th>4</th>\n",
       "      <td>270.413333</td>\n",
       "    </tr>\n",
       "    <tr>\n",
       "      <th>5</th>\n",
       "      <td>268.884677</td>\n",
       "    </tr>\n",
       "    <tr>\n",
       "      <th>6</th>\n",
       "      <td>269.185833</td>\n",
       "    </tr>\n",
       "    <tr>\n",
       "      <th>7</th>\n",
       "      <td>269.038710</td>\n",
       "    </tr>\n",
       "    <tr>\n",
       "      <th>8</th>\n",
       "      <td>268.429839</td>\n",
       "    </tr>\n",
       "    <tr>\n",
       "      <th>9</th>\n",
       "      <td>268.649167</td>\n",
       "    </tr>\n",
       "    <tr>\n",
       "      <th>10</th>\n",
       "      <td>270.062097</td>\n",
       "    </tr>\n",
       "    <tr>\n",
       "      <th>11</th>\n",
       "      <td>268.513333</td>\n",
       "    </tr>\n",
       "    <tr>\n",
       "      <th>12</th>\n",
       "      <td>270.576613</td>\n",
       "    </tr>\n",
       "  </tbody>\n",
       "</table>\n",
       "</div>"
      ],
      "text/plain": [
       "      Average_Order_Value\n",
       "Date                     \n",
       "1              266.798387\n",
       "2              268.624107\n",
       "3              267.827419\n",
       "4              270.413333\n",
       "5              268.884677\n",
       "6              269.185833\n",
       "7              269.038710\n",
       "8              268.429839\n",
       "9              268.649167\n",
       "10             270.062097\n",
       "11             268.513333\n",
       "12             270.576613"
      ]
     },
     "execution_count": 77,
     "metadata": {},
     "output_type": "execute_result"
    }
   ],
   "source": [
    "# Monthly Average Order Value (AOV)\n",
    "\n",
    "def monthly_aov(df):\n",
    "    monthly_orders = df.groupby(df['Date'].dt.month)['Order Number'].nunique()\n",
    "    total_sales= df.groupby(df['Date'].dt.month)['Price'].sum()\n",
    "    return total_sales / monthly_orders\n",
    "\n",
    "#Apply Functions\n",
    "monthly_aov_data = monthly_aov(data)\n",
    "monthly_aov_data_1 =pd.DataFrame(monthly_aov_data,columns=['Average_Order_Value'])\n",
    "monthly_aov_data_1\n",
    "\n"
   ]
  },
  {
   "cell_type": "code",
   "execution_count": 83,
   "metadata": {},
   "outputs": [
    {
     "data": {
      "text/plain": [
       "Profit_Category\n",
       "Low-Profit     55887\n",
       "High-Profit    15618\n",
       "No-Profit       1495\n",
       "Name: count, dtype: int64"
      ]
     },
     "execution_count": 83,
     "metadata": {},
     "output_type": "execute_result"
    }
   ],
   "source": [
    "# Advanced Profitability Analysis\n",
    "def classify_profit(profit):\n",
    "    if profit > 10:\n",
    "        return 'High-Profit'\n",
    "    elif 0 < profit <= 10:\n",
    "        return 'Low-Profit'\n",
    "    else:\n",
    "        return 'No-Profit'\n",
    "    \n",
    "data['Profit_Category'] = data['Profit'].apply(classify_profit)\n"
   ]
  },
  {
   "cell_type": "code",
   "execution_count": 94,
   "metadata": {},
   "outputs": [
    {
     "data": {
      "text/plain": [
       "Price_Brand\n",
       "Low-Price       50053\n",
       "High-Price      14600\n",
       "Medium-Price     6852\n",
       "Name: count, dtype: int64"
      ]
     },
     "execution_count": 94,
     "metadata": {},
     "output_type": "execute_result"
    }
   ],
   "source": [
    "#Create Price Bands\n",
    "data['Price_Brand']=pd.cut(data['Price'], bins=[0,50,100,200],labels=['Low-Price','Medium-Price','High-Price'])\n",
    "data.Price_Brand.value_counts()\n"
   ]
  },
  {
   "cell_type": "code",
   "execution_count": 101,
   "metadata": {},
   "outputs": [
    {
     "name": "stderr",
     "output_type": "stream",
     "text": [
      "C:\\Users\\ajha2\\AppData\\Local\\Temp\\ipykernel_24532\\3337882544.py:18: DeprecationWarning: DataFrameGroupBy.apply operated on the grouping columns. This behavior is deprecated, and in a future version of pandas the grouping columns will be excluded from the operation. Either pass `include_groups=False` to exclude the groupings or explicitly select the grouping columns after groupby to silence this warning.\n",
      "  rfm_data = data.groupby('Order Number').apply(calculate_rfm)\n"
     ]
    },
    {
     "data": {
      "text/html": [
       "<div>\n",
       "<style scoped>\n",
       "    .dataframe tbody tr th:only-of-type {\n",
       "        vertical-align: middle;\n",
       "    }\n",
       "\n",
       "    .dataframe tbody tr th {\n",
       "        vertical-align: top;\n",
       "    }\n",
       "\n",
       "    .dataframe thead th {\n",
       "        text-align: right;\n",
       "    }\n",
       "</style>\n",
       "<table border=\"1\" class=\"dataframe\">\n",
       "  <thead>\n",
       "    <tr style=\"text-align: right;\">\n",
       "      <th></th>\n",
       "      <th>Recency</th>\n",
       "      <th>Frequency</th>\n",
       "      <th>Monetary</th>\n",
       "    </tr>\n",
       "    <tr>\n",
       "      <th>Order Number</th>\n",
       "      <th></th>\n",
       "      <th></th>\n",
       "      <th></th>\n",
       "    </tr>\n",
       "  </thead>\n",
       "  <tbody>\n",
       "    <tr>\n",
       "      <th>2200001</th>\n",
       "      <td>1027</td>\n",
       "      <td>1</td>\n",
       "      <td>308</td>\n",
       "    </tr>\n",
       "    <tr>\n",
       "      <th>2200002</th>\n",
       "      <td>1027</td>\n",
       "      <td>1</td>\n",
       "      <td>262</td>\n",
       "    </tr>\n",
       "    <tr>\n",
       "      <th>2200003</th>\n",
       "      <td>1027</td>\n",
       "      <td>1</td>\n",
       "      <td>305</td>\n",
       "    </tr>\n",
       "    <tr>\n",
       "      <th>2200004</th>\n",
       "      <td>1027</td>\n",
       "      <td>1</td>\n",
       "      <td>315</td>\n",
       "    </tr>\n",
       "    <tr>\n",
       "      <th>2200005</th>\n",
       "      <td>1027</td>\n",
       "      <td>1</td>\n",
       "      <td>254</td>\n",
       "    </tr>\n",
       "    <tr>\n",
       "      <th>...</th>\n",
       "      <td>...</td>\n",
       "      <td>...</td>\n",
       "      <td>...</td>\n",
       "    </tr>\n",
       "    <tr>\n",
       "      <th>2214596</th>\n",
       "      <td>663</td>\n",
       "      <td>1</td>\n",
       "      <td>296</td>\n",
       "    </tr>\n",
       "    <tr>\n",
       "      <th>2214597</th>\n",
       "      <td>663</td>\n",
       "      <td>1</td>\n",
       "      <td>275</td>\n",
       "    </tr>\n",
       "    <tr>\n",
       "      <th>2214598</th>\n",
       "      <td>663</td>\n",
       "      <td>1</td>\n",
       "      <td>246</td>\n",
       "    </tr>\n",
       "    <tr>\n",
       "      <th>2214599</th>\n",
       "      <td>663</td>\n",
       "      <td>1</td>\n",
       "      <td>237</td>\n",
       "    </tr>\n",
       "    <tr>\n",
       "      <th>2214600</th>\n",
       "      <td>663</td>\n",
       "      <td>1</td>\n",
       "      <td>260</td>\n",
       "    </tr>\n",
       "  </tbody>\n",
       "</table>\n",
       "<p>14600 rows × 3 columns</p>\n",
       "</div>"
      ],
      "text/plain": [
       "              Recency  Frequency  Monetary\n",
       "Order Number                              \n",
       "2200001          1027          1       308\n",
       "2200002          1027          1       262\n",
       "2200003          1027          1       305\n",
       "2200004          1027          1       315\n",
       "2200005          1027          1       254\n",
       "...               ...        ...       ...\n",
       "2214596           663          1       296\n",
       "2214597           663          1       275\n",
       "2214598           663          1       246\n",
       "2214599           663          1       237\n",
       "2214600           663          1       260\n",
       "\n",
       "[14600 rows x 3 columns]"
      ]
     },
     "execution_count": 101,
     "metadata": {},
     "output_type": "execute_result"
    }
   ],
   "source": [
    "# Calculate RFM Metrics\n",
    "#function to calculate\n",
    "\n",
    "def calculate_rfm(df):\n",
    "    now = pd.Timestamp('2024-10-24')\n",
    "\n",
    "    #Recency\n",
    "    recency = (now- df['Date'].max()).days\n",
    "\n",
    "    #frequency\n",
    "    frequency=df['Order Number'].nunique()\n",
    "\n",
    "    #Monetary\n",
    "    monetary = df['Price'].sum()\n",
    "    return pd.Series([recency,frequency,monetary], index=['Recency','Frequency','Monetary'])\n",
    "\n",
    "#Applying the function to each customer\n",
    "rfm_data = data.groupby('Order Number').apply(calculate_rfm)\n",
    "rfm_data\n"
   ]
  },
  {
   "cell_type": "code",
   "execution_count": 107,
   "metadata": {},
   "outputs": [
    {
     "data": {
      "image/png": "[encoded data removed]",
      "text/plain": [
       "<Figure size 640x480 with 1 Axes>"
      ]
     },
     "metadata": {},
     "output_type": "display_data"
    }
   ],
   "source": [
    "#Plot sales trend\n",
    "sns.lineplot(x=monthly_sales_data.index,y=monthly_sales_data.values)\n",
    "plt.title('Monthly Sales Trend')\n",
    "plt.show()"
   ]
  },
  {
   "cell_type": "code",
   "execution_count": 108,
   "metadata": {},
   "outputs": [
    {
     "data": {
      "image/png": "[encoded data removed]",
      "text/plain": [
       "<Figure size 640x480 with 1 Axes>"
      ]
     },
     "metadata": {},
     "output_type": "display_data"
    }
   ],
   "source": [
    "sns.countplot(x='Profit_Category',data=data)\n",
    "plt.title('Profitability_Distribution')\n",
    "plt.show()"
   ]
  },
  {
   "cell_type": "code",
   "execution_count": 111,
   "metadata": {},
   "outputs": [],
   "source": []
  }
 ],
 "metadata": {
  "kernelspec": {
   "display_name": "Python 3",
   "language": "python",
   "name": "python3"
  },
  "language_info": {
   "codemirror_mode": {
    "name": "ipython",
    "version": 3
   },
   "file_extension": ".py",
   "mimetype": "text/x-python",
   "name": "python",
   "nbconvert_exporter": "python",
   "pygments_lexer": "ipython3",
   "version": "3.12.5"
  }
 },
 "nbformat": 4,
 "nbformat_minor": 2
}
